{
 "cells": [
  {
   "cell_type": "markdown",
   "metadata": {},
   "source": [
    "# Laboratorium 1 "
   ]
  },
  {
   "cell_type": "code",
   "execution_count": 1,
   "metadata": {},
   "outputs": [],
   "source": [
    "%matplotlib inline\n",
    "#%matplotlib notebook"
   ]
  },
  {
   "cell_type": "code",
   "execution_count": 15,
   "metadata": {},
   "outputs": [],
   "source": [
    "from matplotlib import pyplot as plt\n",
    "from matplotlib import animation\n",
    "import numpy as np\n",
    "import pandas as pd\n"
   ]
  },
  {
   "cell_type": "code",
   "execution_count": 16,
   "metadata": {},
   "outputs": [],
   "source": [
    "def add_grain(grid, X, Y): \n",
    "    grid[X,Y] += 1\n",
    "\n",
    "\n",
    "def avalanche(field: np.array):\n",
    "    result = field.copy()\n",
    "    top = np.where(result>=4)\n",
    "    result[top] = 0\n",
    "\n",
    "    for x, y in zip(*top):\n",
    "        if x < edge_size-1:\n",
    "            result[x+1, y] += 1\n",
    "        if x > 0:\n",
    "            result[x-1, y] += 1\n",
    "        if y < edge_size-1:\n",
    "            result[x, y+1] += 1\n",
    "        if y > 0:\n",
    "            result[x, y-1] += 1\n",
    "    return result\n",
    "\n",
    "def is_avalanche(grid: np.array) -> bool:\n",
    "    top = np.where(grid>=4)\n",
    "    if len(top[0])!=0:\n",
    "        #print(\"AVALANCHE\")\n",
    "        #print(\"top:\", top)\n",
    "        return True\n",
    "    #print(\"No avalanche\")\n",
    "    return False\n",
    "\n",
    "def draw_imshow(field):\n",
    "    plt.imshow(field, cmap=\"Greys\")\n",
    "    plt.colorbar()\n",
    "    plt.show()"
   ]
  },
  {
   "cell_type": "markdown",
   "metadata": {},
   "source": [
    "## Symulacja kratownicy 10x10\n",
    "\n",
    "UWAGA! Nie udało się uruchomić animacji w trybie \"inline\", uzyty został moduł \"tk\". Aby zobaczyć animację, nalezy uruchomić notebook. \n",
    "Symulacja uruchomi się w oddzielnym oknie. \n",
    "\n",
    "Zastępczo zostało umieszczone łącze do GIFa."
   ]
  },
  {
   "cell_type": "code",
   "execution_count": 17,
   "metadata": {},
   "outputs": [],
   "source": [
    "%matplotlib tk\n",
    "fig, ax = plt.subplots(figsize=(15,15))\n",
    "ims = []\n",
    "\n",
    "iters = 100\n",
    "edge_size = 10\n",
    "result = np.random.randint(low=0,high=4,size=(edge_size, edge_size))\n",
    "avalanche_size = 0\n",
    "\n",
    "for i in range(iters):\n",
    "\n",
    "    if is_avalanche(result):\n",
    "        result = avalanche(result)\n",
    "    else:\n",
    "        row = np.random.randint(low=0, high=edge_size)\n",
    "        col = np.random.randint(low=0, high=edge_size)\n",
    "        #print(\"Adding grain:\", row, col)\n",
    "        add_grain(result, X=row, Y=col)\n",
    "    im = ax.imshow(result, cmap=\"Greys\")\n",
    "    if i==0:\n",
    "        ax.imshow(result,cmap=\"Greys\")\n",
    "    ims.append([im])\n",
    "\n",
    "\n",
    "ani = animation.ArtistAnimation(fig, ims, interval=500, blit=False, repeat_delay=1000)\n",
    "\n",
    "plt.show()\n"
   ]
  },
  {
   "cell_type": "markdown",
   "metadata": {},
   "source": [
    "![avalanche10x10](gifs/avalanche10x10.mov.gif \"10x10\")"
   ]
  },
  {
   "cell_type": "markdown",
   "metadata": {},
   "source": [
    "## Symulacja 100x100\n",
    "\n",
    "UWAGA! Nie udało się uruchomić animacji w trybie \"inline\", uzyty został moduł \"tk\". Aby zobaczyć animację, nalezy uruchomić notebook. \n",
    "Symulacja uruchomi się w oddzielnym oknie. \n",
    "\n",
    "Zastępczo zostało umieszczone łącze do GIFa."
   ]
  },
  {
   "cell_type": "code",
   "execution_count": 18,
   "metadata": {},
   "outputs": [],
   "source": [
    "%matplotlib tk\n",
    "fig, ax = plt.subplots(figsize=(15,15))\n",
    "ims = []\n",
    "\n",
    "iters=100\n",
    "edge_size = 100\n",
    "result = np.random.randint(low=0,high=4,size=(edge_size, edge_size))\n",
    "avalanche_size = 0\n",
    "\n",
    "for i in range(iters):\n",
    "    if is_avalanche(result):\n",
    "        result = avalanche(result)\n",
    "    else:\n",
    "        row = np.random.randint(low=0, high=edge_size)\n",
    "        col = np.random.randint(low=0, high=edge_size)\n",
    "        #print(\"Adding grain:\", row, col)\n",
    "        add_grain(result, X=row, Y=col)\n",
    "    im = ax.imshow(result, cmap=\"Greys\")\n",
    "    if i==0:\n",
    "        ax.imshow(result,cmap=\"Greys\")\n",
    "    ims.append([im])\n",
    "\n",
    "\n",
    "ani = animation.ArtistAnimation(fig, ims, interval=1000, blit=False, repeat_delay=1000)\n",
    "\n",
    "plt.show()"
   ]
  },
  {
   "cell_type": "markdown",
   "metadata": {},
   "source": [
    "![avalanche100x100](gifs/avalanche100x100.mov.gif \"100x100\")"
   ]
  },
  {
   "cell_type": "markdown",
   "metadata": {},
   "source": [
    "## Sekwencja symulacji usypywania stosów\n",
    "\n",
    "Wykres N(s):\n",
    "\n",
    "s - rozmiar lawiny \n",
    "\n",
    "N - liczba lawin\n",
    "\n",
    "UWAGA! Nie udało się uruchomić animacji w trybie \"inline\", uzyty został moduł \"tk\". Aby zobaczyć animację, nalezy uruchomić notebook. \n",
    "Symulacja uruchomi się w oddzielnym oknie. "
   ]
  },
  {
   "cell_type": "code",
   "execution_count": 19,
   "metadata": {},
   "outputs": [],
   "source": [
    "def avalanche_with_size(grid: np.array):\n",
    "    result = grid.copy()\n",
    "    top = np.where(result>=4)\n",
    "    #print(\"subavalanche size:\", top[0].size)\n",
    "    subavalanche = top[0].size\n",
    "    result[top] = 0\n",
    "\n",
    "    for x, y in zip(*top):\n",
    "        if x < edge_size-1:\n",
    "            result[x+1, y] += 1\n",
    "        if x > 0:\n",
    "            result[x-1, y] += 1\n",
    "        if y < edge_size-1:\n",
    "            result[x, y+1] += 1\n",
    "        if y > 0:\n",
    "            result[x, y-1] += 1\n",
    "    \n",
    "    return result, subavalanche\n"
   ]
  },
  {
   "cell_type": "code",
   "execution_count": 20,
   "metadata": {},
   "outputs": [
    {
     "name": "stdout",
     "output_type": "stream",
     "text": [
      "number of avalanches: 75\n",
      "[(1, 1), (2, 2), (1, 1), (2, 2), (4, 8), (2, 2), (1, 1), (1, 1), (2, 2), (2, 2), (2, 2), (10, 11), (5, 5), (3, 3), (1, 1), (2, 3), (2, 2), (2, 2), (5, 8), (5, 9), (4, 4), (1, 1), (2, 2), (2, 2), (1, 1), (1, 1), (1, 1), (4, 6), (2, 2), (4, 4), (1, 1), (7, 12), (1, 1), (3, 4), (1, 1), (1, 1), (2, 2), (1, 1), (2, 3), (5, 6), (3, 3), (1, 1), (5, 6), (7, 8), (2, 2), (1, 1), (5, 9), (6, 6), (4, 4), (4, 7), (1, 1), (1, 1), (1, 1), (4, 4), (2, 2), (1, 1), (2, 2), (2, 2), (2, 2), (3, 4), (4, 4), (2, 2), (1, 1), (4, 4), (2, 3), (5, 5), (5, 8), (2, 2), (1, 1), (3, 4), (2, 2), (2, 2), (5, 5), (11, 12), (1, 1)]\n"
     ]
    }
   ],
   "source": [
    "%matplotlib tk\n",
    "fig, ax = plt.subplots(figsize=(15,15))\n",
    "ims = []\n",
    "\n",
    "iters=500\n",
    "edge_size = 100\n",
    "result = np.random.randint(low=0,high=4,size=(edge_size, edge_size))\n",
    "# list of tuples (av_time, av_size):\n",
    "avalanches = []\n",
    "avalanche_size = 0\n",
    "avalanche_time = 0\n",
    "\n",
    "for i in range(iters):\n",
    "    if is_avalanche(result):\n",
    "        result, subav = avalanche_with_size(result)\n",
    "        avalanche_size+=subav\n",
    "        avalanche_time+=1\n",
    "    else:\n",
    "        if avalanche_time!=0:\n",
    "            #print(\"saving avalanche...\")\n",
    "            avalanches.append((avalanche_time, avalanche_size))\n",
    "        avalanche_time = 0\n",
    "        avalanche_size = 0\n",
    "        row = np.random.randint(low=0, high=edge_size)\n",
    "        col = np.random.randint(low=0, high=edge_size)\n",
    "        #print(\"Adding grain:\", row, col)\n",
    "        add_grain(result, X=row, Y=col)\n",
    "    im = ax.imshow(result, cmap=\"Greys\")\n",
    "    if i==0:\n",
    "        ax.imshow(result,cmap=\"Greys\")\n",
    "    ims.append([im])\n",
    "\n",
    "print(\"number of avalanches:\", len(avalanches))\n",
    "print(avalanches)\n",
    "\n",
    "ani = animation.ArtistAnimation(fig, ims, interval=200, blit=False, repeat_delay=1000)\n",
    "plt.show()"
   ]
  },
  {
   "cell_type": "code",
   "execution_count": 21,
   "metadata": {},
   "outputs": [
    {
     "data": {
      "image/png": "[encoded data removed]",
      "text/plain": [
       "<Figure size 1080x576 with 1 Axes>"
      ]
     },
     "metadata": {
      "needs_background": "light"
     },
     "output_type": "display_data"
    }
   ],
   "source": [
    "%matplotlib inline\n",
    "fig, ax = plt.subplots(figsize=(15,8))\n",
    "df = pd.DataFrame(avalanches, columns=['AvalancheTime','AvalancheSize'])\n",
    "df.reset_index(inplace=True)\n",
    "sizes = df['AvalancheSize'].value_counts()\n",
    "\n",
    "sizes_df = sizes.to_frame()\n",
    "sizes_df.reset_index(inplace=True)\n",
    "\n",
    "xlog = np.log(sizes_df[\"AvalancheSize\"])\n",
    "ylog = np.log(sizes_df[\"index\"])\n",
    "\n",
    "alpha,b = np.polyfit(xlog, ylog, 1)\n",
    "\n",
    "poly1d_fn = np.poly1d([alpha, b])\n",
    "\n",
    "ax.scatter(xlog, ylog)\n",
    "ax.plot(xlog, poly1d_fn(xlog), 'black')\n",
    "ax.text(0.1, 0.2, \"alpha: \"+str(alpha))\n",
    "ax.text(0.1, 0.01, \"b: \"+str(b))\n",
    "ax.set_xlabel('Log(AvalancheSize)')\n",
    "ax.set_ylabel('Log(Count)')\n",
    "ax.set_title('Log-Log Plot')\n",
    "\n",
    "plt.show()"
   ]
  },
  {
   "cell_type": "markdown",
   "metadata": {},
   "source": [
    "Wyznaczona zaleznosc jest potęgowa, wartość alpha jest ujemna, tzn. ilość wystąpień wyzszych rozmiarów lawiny spada wykladniczo wraz ze wzorem: \n",
    "\n",
    "N(s) = s^(-alpha) = 1/(s^alpha)"
   ]
  },
  {
   "cell_type": "markdown",
   "metadata": {},
   "source": [
    "## Dodatkowe GIFy ciekawych przebiegów lawiny, rozmary 100x100 oraz 10x10"
   ]
  },
  {
   "cell_type": "markdown",
   "metadata": {},
   "source": [
    "### 100x100, wycinek z 500 iteracji:\n",
    "\n",
    "![Long_100x100](gifs/long_av100x100.mov.gif \"long_100x100\")\n",
    "\n",
    "### 100x100 wycinek z 100 iteracji:\n",
    "\n",
    "![Long2_100x100](gifs/long2_av100x100.mov.gif \"long2_100x100\")"
   ]
  },
  {
   "cell_type": "markdown",
   "metadata": {},
   "source": [
    "### 10x10 wycinek z 500 iteracji:\n",
    "\n",
    "![long_10x10](https://github.com/FilipKatulski/complex-systems/blob/main/LAB1/gifs/long_av10x10.mov.gif \"long_10x10\")\n",
    "\n",
    "### 10x10 wycinek z 500 iteracji:\n",
    "\n",
    "![long2_10x10](https://github.com/FilipKatulski/complex-systems/blob/main/LAB1/gifs/long2_av10x10.mov.gif \"long2_10x10\")\n",
    "\n",
    "### 10x10 wycinek z 100 iteracji:\n",
    "\n",
    "![short_10x10](https://github.com/FilipKatulski/complex-systems/blob/main/LAB1/gifs/short_av10x10.mov.gif \"short_10x10\")\n"
   ]
  }
 ],
 "metadata": {
  "kernelspec": {
   "display_name": "Python 3.9.12 ('base')",
   "language": "python",
   "name": "python3"
  },
  "language_info": {
   "codemirror_mode": {
    "name": "ipython",
    "version": 3
   },
   "file_extension": ".py",
   "mimetype": "text/x-python",
   "name": "python",
   "nbconvert_exporter": "python",
   "pygments_lexer": "ipython3",
   "version": "3.9.12"
  },
  "orig_nbformat": 4,
  "vscode": {
   "interpreter": {
    "hash": "a447cce11633770116628ba2ec33bfc43075824ffa0595b2fdbcb87d335f18be"
   }
  }
 },
 "nbformat": 4,
 "nbformat_minor": 2
}
