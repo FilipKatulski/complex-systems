{
 "cells": [
  {
   "cell_type": "markdown",
   "metadata": {},
   "source": [
    "# Laboratorium 1 "
   ]
  },
  {
   "cell_type": "code",
   "execution_count": 1,
   "metadata": {},
   "outputs": [],
   "source": [
    "# !pip3 install powerlaw\n",
    "# import powerlaw"
   ]
  },
  {
   "cell_type": "code",
   "execution_count": 2,
   "metadata": {},
   "outputs": [],
   "source": [
    "# %matplotlib notebook\n",
    "# %matplotlib notebook"
   ]
  },
  {
   "cell_type": "code",
   "execution_count": 3,
   "metadata": {},
   "outputs": [],
   "source": [
    "from matplotlib import pyplot as plt\n",
    "from matplotlib import animation\n",
    "import numpy as np\n",
    "\n",
    "from IPython import display\n",
    "plt.rcParams['animation.ffmpeg_path'] = '/ffmpeg_folder/ffmpeg'"
   ]
  },
  {
   "cell_type": "code",
   "execution_count": 4,
   "metadata": {},
   "outputs": [],
   "source": [
    "posible_values = [0,1,2,3,4]\n",
    "\n",
    "edge_size = 10 \n",
    "\n",
    "field = np.random.randint(low=0,high=4,size=(edge_size, edge_size))\n"
   ]
  },
  {
   "cell_type": "code",
   "execution_count": 5,
   "metadata": {},
   "outputs": [
    {
     "data": {
      "image/png": "[encoded data removed]",
      "text/plain": [
       "<Figure size 432x288 with 2 Axes>"
      ]
     },
     "metadata": {
      "needs_background": "light"
     },
     "output_type": "display_data"
    }
   ],
   "source": [
    "plt.imshow(field, cmap='Greys')\n",
    "\n",
    "plt.colorbar()\n",
    "plt.show()\n"
   ]
  },
  {
   "cell_type": "code",
   "execution_count": 6,
   "metadata": {},
   "outputs": [],
   "source": [
    "def add_grain(grid, X, Y): \n",
    "    grid[X,Y] += 1\n",
    "\n",
    "\n",
    "def avalanche(field: np.array):\n",
    "    result = field.copy()\n",
    "    top = np.where(result>=4)\n",
    "    result[top] = 0\n",
    "\n",
    "    for x, y in zip(*top):\n",
    "        if x < edge_size-1:\n",
    "            result[x+1, y] += 1\n",
    "        if x > 0:\n",
    "            result[x-1, y] += 1\n",
    "        if y < edge_size-1:\n",
    "            result[x, y+1] += 1\n",
    "        if y > 0:\n",
    "            result[x, y-1] += 1\n",
    "    return result\n",
    "\n",
    "def is_avalanche(grid: np.array) -> bool:\n",
    "    top = np.where(grid>=4)\n",
    "    if len(top[0])!=0:\n",
    "        print(\"AVALANCHE\")\n",
    "        print(\"top:\", top)\n",
    "        return True\n",
    "    print(\"No avalanche\")\n",
    "    return False\n",
    "\n",
    "def draw_imshow(field):\n",
    "    plt.imshow(field, cmap=\"Greys\")\n",
    "    plt.colorbar()\n",
    "    plt.show()"
   ]
  },
  {
   "cell_type": "code",
   "execution_count": 7,
   "metadata": {},
   "outputs": [
    {
     "name": "stdout",
     "output_type": "stream",
     "text": [
      "random seed location: 9 8\n",
      "No avalanche\n",
      "[[2 0 2 0 1 1 3 1 1 1]\n",
      " [0 1 1 2 0 2 2 3 3 3]\n",
      " [1 3 2 1 3 0 1 0 3 0]\n",
      " [3 0 0 1 3 1 2 1 0 0]\n",
      " [0 2 0 3 1 3 2 0 3 3]\n",
      " [1 3 0 2 2 3 1 3 0 1]\n",
      " [3 3 0 1 1 0 0 1 0 1]\n",
      " [2 0 2 2 2 0 1 1 1 1]\n",
      " [2 3 3 3 3 3 2 1 1 1]\n",
      " [1 2 2 3 1 1 0 0 1 3]]\n",
      "(array([], dtype=int64), array([], dtype=int64))\n"
     ]
    }
   ],
   "source": [
    "row = np.random.randint(low=0, high=edge_size)\n",
    "col = np.random.randint(low=0, high=edge_size)\n",
    "\n",
    "print(\"random seed location:\", row, col)\n",
    "\n",
    "add_grain(field, row, col)\n",
    "\n",
    "if is_avalanche(field):\n",
    "    print(field)\n",
    "\n",
    "\n",
    "result = avalanche(field)\n",
    "print(result)\n",
    "\n",
    "print(np.where(result!=field))\n"
   ]
  },
  {
   "cell_type": "code",
   "execution_count": 8,
   "metadata": {},
   "outputs": [
    {
     "name": "stdout",
     "output_type": "stream",
     "text": [
      "[[2 0 2 0 1 1 3 1 1 1]\n",
      " [0 1 1 2 0 2 2 3 3 3]\n",
      " [1 3 2 1 3 0 1 0 3 0]\n",
      " [3 0 0 1 3 1 2 1 0 0]\n",
      " [0 2 0 3 1 3 2 0 3 3]\n",
      " [1 3 0 2 2 3 1 3 0 1]\n",
      " [3 3 0 1 1 0 0 1 0 1]\n",
      " [2 0 2 2 2 0 1 1 1 1]\n",
      " [2 3 3 3 3 3 2 1 1 1]\n",
      " [1 2 2 3 1 1 0 0 1 3]]\n"
     ]
    }
   ],
   "source": [
    "n_result = avalanche(result)\n",
    "print(n_result)"
   ]
  },
  {
   "cell_type": "code",
   "execution_count": 11,
   "metadata": {},
   "outputs": [
    {
     "name": "stdout",
     "output_type": "stream",
     "text": [
      "AVALANCHE\n",
      "top: (array([5]), array([3]))\n",
      "AVALANCHE\n",
      "top: (array([4]), array([3]))\n",
      "No avalanche\n",
      "Adding grain: 0 1\n",
      "No avalanche\n",
      "Adding grain: 5 6\n",
      "No avalanche\n",
      "Adding grain: 5 0\n",
      "No avalanche\n",
      "Adding grain: 6 7\n",
      "No avalanche\n",
      "Adding grain: 1 1\n",
      "No avalanche\n",
      "Adding grain: 8 5\n",
      "AVALANCHE\n",
      "top: (array([8]), array([5]))\n",
      "AVALANCHE\n",
      "top: (array([8]), array([4]))\n",
      "AVALANCHE\n",
      "top: (array([8]), array([3]))\n",
      "AVALANCHE\n",
      "top: (array([8, 9]), array([2, 3]))\n",
      "AVALANCHE\n",
      "top: (array([8, 9]), array([1, 2]))\n",
      "AVALANCHE\n",
      "top: (array([9]), array([1]))\n",
      "No avalanche\n",
      "Adding grain: 4 0\n",
      "No avalanche\n",
      "Adding grain: 0 5\n",
      "No avalanche\n",
      "Adding grain: 7 6\n",
      "No avalanche\n",
      "Adding grain: 4 1\n",
      "No avalanche\n",
      "Adding grain: 3 9\n",
      "No avalanche\n",
      "Adding grain: 4 7\n"
     ]
    },
    {
     "name": "stderr",
     "output_type": "stream",
     "text": [
      "/Users/filipkatulski/opt/anaconda3/lib/python3.9/site-packages/matplotlib/animation.py:889: UserWarning: Animation was deleted without rendering anything. This is most likely not intended. To prevent deletion, assign the Animation to a variable, e.g. `anim`, that exists until you have outputted the Animation using `plt.show()` or `anim.save()`.\n",
      "  warnings.warn(\n"
     ]
    },
    {
     "data": {
      "image/png": "[encoded data removed]",
      "text/plain": [
       "<Figure size 432x288 with 1 Axes>"
      ]
     },
     "metadata": {
      "needs_background": "light"
     },
     "output_type": "display_data"
    }
   ],
   "source": [
    "\n",
    "fig, ax = plt.subplots()\n",
    "ims = []\n",
    "\n",
    "iters=20\n",
    "result = field\n",
    "avalanche_size = 0\n",
    "\n",
    "for i in range(iters):\n",
    "    # draw_imshow(result)\n",
    "\n",
    "    if is_avalanche(result):\n",
    "        result = avalanche(result)\n",
    "    else:\n",
    "        row = np.random.randint(low=0, high=edge_size)\n",
    "        col = np.random.randint(low=0, high=edge_size)\n",
    "        print(\"Adding grain:\", row, col)\n",
    "        add_grain(result, X=row, Y=col)\n",
    "    im = ax.imshow(result, cmap=\"Greys\")\n",
    "    if i==0:\n",
    "        ax.imshow(result,cmap=\"Greys\")\n",
    "    ims.append([im])\n",
    "    \n",
    "    # draw_imshow(result)\n",
    "\n",
    "\n",
    "ani = animation.ArtistAnimation(fig, ims, interval=1000, blit=True, repeat_delay=1000)\n",
    "\n",
    "plt.show() #--> Instead:\n",
    "\n",
    "#video = ani.to_html5_video()\n",
    "#html = display.HTML(video)\n",
    "#display.display(html)\n",
    "#plt.close()                   # avoid plotting a spare static plot\n",
    "\n"
   ]
  }
 ],
 "metadata": {
  "kernelspec": {
   "display_name": "Python 3.9.12 ('base')",
   "language": "python",
   "name": "python3"
  },
  "language_info": {
   "codemirror_mode": {
    "name": "ipython",
    "version": 3
   },
   "file_extension": ".py",
   "mimetype": "text/x-python",
   "name": "python",
   "nbconvert_exporter": "python",
   "pygments_lexer": "ipython3",
   "version": "3.9.12"
  },
  "orig_nbformat": 4,
  "vscode": {
   "interpreter": {
    "hash": "a447cce11633770116628ba2ec33bfc43075824ffa0595b2fdbcb87d335f18be"
   }
  }
 },
 "nbformat": 4,
 "nbformat_minor": 2
}
