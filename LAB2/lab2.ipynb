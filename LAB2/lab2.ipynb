{
 "cells": [
  {
   "cell_type": "code",
   "execution_count": 157,
   "metadata": {},
   "outputs": [],
   "source": [
    "import numpy as np\n",
    "import matplotlib.pyplot as plt\n",
    "from ifsFractals import *"
   ]
  },
  {
   "cell_type": "markdown",
   "metadata": {},
   "source": [
    "## Task 1\n",
    "\n",
    "White on black"
   ]
  },
  {
   "cell_type": "code",
   "execution_count": 158,
   "metadata": {},
   "outputs": [],
   "source": [
    "table = [0 if (x>700 or x>300 or y <250) and (y<1750 or x>1000) else 255.0 for y in range(2048) for x in range (2048)]\n",
    "start_image = np.array(table).reshape(2048, 2048)"
   ]
  },
  {
   "cell_type": "code",
   "execution_count": 159,
   "metadata": {},
   "outputs": [
    {
     "data": {
      "image/png": "[encoded data removed]",
      "text/plain": [
       "<Figure size 432x288 with 1 Axes>"
      ]
     },
     "metadata": {
      "needs_background": "light"
     },
     "output_type": "display_data"
    }
   ],
   "source": [
    "plt.imshow(start_image, cmap=\"Greys\")\n",
    "plt.show()"
   ]
  },
  {
   "cell_type": "markdown",
   "metadata": {},
   "source": [
    "## Task 2 - one single contraction"
   ]
  },
  {
   "cell_type": "code",
   "execution_count": 160,
   "metadata": {},
   "outputs": [],
   "source": [
    "A = 0.0\n",
    "B = -0.5\n",
    "C = 0.5\n",
    "D = 0\n",
    "E = 0.5\n",
    "F = 0\n",
    "\n",
    "def w_function(x,y):\n",
    "    x = x*A + y*B + C \n",
    "    y = x*D + y*E + F\n",
    "    return(x,y)"
   ]
  },
  {
   "cell_type": "code",
   "execution_count": 161,
   "metadata": {},
   "outputs": [],
   "source": [
    "def single_contraction(image):\n",
    "    new_image = np.ones(shape=(2048, 2048))\n",
    "    for x in range(2048):\n",
    "        for y in range(2048):\n",
    "            if image[x,y] > 0.0:\n",
    "                _x = x*A + y*B + E\n",
    "                _y = x*C + y*D + F\n",
    "                new_image[int(_x), int(_y)] = 0\n",
    "            \n",
    "            \n",
    "    return new_image"
   ]
  },
  {
   "cell_type": "code",
   "execution_count": 162,
   "metadata": {},
   "outputs": [
    {
     "data": {
      "image/png": "[encoded data removed]",
      "text/plain": [
       "<Figure size 432x288 with 1 Axes>"
      ]
     },
     "metadata": {
      "needs_background": "light"
     },
     "output_type": "display_data"
    }
   ],
   "source": [
    "n_image = single_contraction(image=start_image)\n",
    "plt.imshow(n_image, cmap=\"gray\")\n",
    "plt.show()"
   ]
  }
 ],
 "metadata": {
  "kernelspec": {
   "display_name": "Python 3.9.12 ('base')",
   "language": "python",
   "name": "python3"
  },
  "language_info": {
   "codemirror_mode": {
    "name": "ipython",
    "version": 3
   },
   "file_extension": ".py",
   "mimetype": "text/x-python",
   "name": "python",
   "nbconvert_exporter": "python",
   "pygments_lexer": "ipython3",
   "version": "3.9.12"
  },
  "orig_nbformat": 4,
  "vscode": {
   "interpreter": {
    "hash": "a447cce11633770116628ba2ec33bfc43075824ffa0595b2fdbcb87d335f18be"
   }
  }
 },
 "nbformat": 4,
 "nbformat_minor": 2
}
